{
 "cells": [
  {
   "cell_type": "code",
   "execution_count": 1,
   "metadata": {},
   "outputs": [],
   "source": [
    "import json\n",
    "import os\n",
    "tweets_filename = os.path.join(os.path.expanduser(\"~\"), \"For Data Analysis\",\n",
    "                                                      \"Data_Mining\",\"Chapter06\",\"Dataset\",\"python_tweets.json\")\n",
    "labels_filename = os.path.join(os.path.expanduser(\"~\"), \"For Data Analysis\",\n",
    "                                                      \"Data_Mining\",\"Chapter06\",\"Dataset\",\"python_classes.json\")\n",
    "\n",
    "replicable_dataset = os.path.join(os.path.expanduser(\"~\"), \"For Data Analysis\",\n",
    "                                                        \"Data_Mining\",\"Chapter06\",\"Dataset\",\"replicable_dataset.json\")"
   ]
  },
  {
   "cell_type": "code",
   "execution_count": 2,
   "metadata": {},
   "outputs": [],
   "source": [
    "with open(replicable_dataset) as inf:\n",
    "    tweets_id = json.load(inf)\n",
    "\n",
    "actual_labels = []\n",
    "label_mapping = dict(tweets_id)"
   ]
  },
  {
   "cell_type": "code",
   "execution_count": 3,
   "metadata": {},
   "outputs": [],
   "source": [
    "import twitter\n",
    "import tweepy\n",
    "consumer_key = \"5C5RR8RVG2WAeVVXXPxb5gVZg\"\n",
    "consumer_secret = \"U235aRDpVP4vxX6YPok5jmcPGEk1DUCBDE3i5dEJTaLKgUg0Wi\"\n",
    "access_token = \"1003108045851770881-XISvGy6O89huHDhojrK1DOAGWR7st4\"\n",
    "access_token_secret = \"dDRIf1lk0WgbS0gHpLH1t2hDWRBhmm6398YeoxC4aSOWX\"\n",
    "auth = tweepy.OAuthHandler(consumer_key , consumer_secret)\n",
    "auth.set_access_token(access_token , access_token_secret)\n",
    "\n",
    "api = tweepy.API(auth,proxy='127.0.0.1:1080')\n"
   ]
  },
  {
   "cell_type": "code",
   "execution_count": 21,
   "metadata": {},
   "outputs": [
    {
     "data": {
      "text/plain": [
       "'1003960544418648064,1003960531462393856,1003960526647582720,1003960484649787392,1003960442216071170,1003960435576471553,1003960424537186305,1003960420535848963,1003960398431678464,1003960370011107329,1003960359567417346,1003960345629687808,1003960340365766657,1003960320111599616,1003960302503845888,1003960273911369729,1003960260619534336,1003960258740588544,1003960258522316800,1003960210757595136,1003960195402301440,1003960192290185218,1003960171880763392,1003960161805860864,1003960127655903232,1003960105170137089,1003960092100907008,1003960090477637638,1003960077701734400,1003960069334151170,1003960045867020293,1003960029400260608,1003960012668932096,1003959981761179649,1003959969983549441,1003959966963822592,1003959960206761984,1003959908172214272,1003959902551920646,1003959891248099331,1003959882108715008,1003959856074670080,1003959846020972544,1003959830720069632,1003959825036763136,1003959817562517505,1003959816446971906,1003959762512326656,1003959749124255744,1003959718115766274,1003959716211392513,1003959702349385728,1003959697634832384,1003959685974642689,1003959673374949377,1003959632287551488,1003959615753617409,1003959594182311937,1003959589862297600,1003959558757285888,1003959541191626754,1003959540914774016,1003959539522138112,1003959533603966976,1003959506404069376,1003959486510333952,1003959484346089473,1003959473243766784,1003959463756247040,1003959432655433729,1003959408609636352,1003959403224150017,1003959398014730240,1003959373624823808,1003959332596170754,1003959324014727168,1003959301587681281,1003959292485988352,1003959277072080896,1003959241537814528,1003959215075950592,1003959203956850688,1003959162210942977,1003959154254413824,1003959080065622016,1003959048499290114,1003959044200071168,1003959005683769346,1003958989493682176,1003958970061500416,1003958910888370176,1003958870274801665,1003958863337418752,1003958851912257536,1003958846568583168,1003958844114939904,1003958821234995200,1003958796912246784,1003958783909900288,1003958778729979905'"
      ]
     },
     "execution_count": 21,
     "metadata": {},
     "output_type": "execute_result"
    }
   ],
   "source": [
    "all_ids = [ id for id , label in tweets_id]\n",
    "id_string = ''\n",
    "for id in all_ids:\n",
    "    id_string += str(id)+','\n",
    "id_string = id_string[:-1]\n"
   ]
  },
  {
   "cell_type": "code",
   "execution_count": null,
   "metadata": {},
   "outputs": [],
   "source": []
  }
 ],
 "metadata": {
  "kernelspec": {
   "display_name": "Python 3",
   "language": "python",
   "name": "python3"
  },
  "language_info": {
   "codemirror_mode": {
    "name": "ipython",
    "version": 3
   },
   "file_extension": ".py",
   "mimetype": "text/x-python",
   "name": "python",
   "nbconvert_exporter": "python",
   "pygments_lexer": "ipython3",
   "version": "3.6.0"
  }
 },
 "nbformat": 4,
 "nbformat_minor": 2
}
