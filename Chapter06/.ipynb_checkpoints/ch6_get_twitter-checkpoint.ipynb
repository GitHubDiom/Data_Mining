{
 "cells": [
  {
   "cell_type": "code",
   "execution_count": 46,
   "metadata": {},
   "outputs": [],
   "source": [
    "import twitter\n",
    "consumer_key = \"5C5RR8RVG2WAeVVXXPxb5gVZg\"\n",
    "consumer_secret = \"U235aRDpVP4vxX6YPok5jmcPGEk1DUCBDE3i5dEJTaLKgUg0Wi\"\n",
    "access_token = \"1003108045851770881-XISvGy6O89huHDhojrK1DOAGWR7st4\"\n",
    "access_token_secret = \"dDRIf1lk0WgbS0gHpLH1t2hDWRBhmm6398YeoxC4aSOWX\"\n",
    "authorization = twitter.OAuth(access_token, access_token_secret, consumer_key, consumer_secret)"
   ]
  },
  {
   "cell_type": "code",
   "execution_count": 47,
   "metadata": {},
   "outputs": [],
   "source": [
    "import tweepy\n",
    "auth = tweepy.OAuthHandler(consumer_key , consumer_secret)\n",
    "auth.set_access_token(access_token , access_token_secret)\n"
   ]
  },
  {
   "cell_type": "code",
   "execution_count": 48,
   "metadata": {},
   "outputs": [
    {
     "data": {
      "text/plain": [
       "'E:\\\\Microsoft VS Code\\\\Projects\\\\For Data Analysis\\\\Data_Mining\\\\Chapter06\\\\Dataset\\\\python_tweets.json'"
      ]
     },
     "execution_count": 48,
     "metadata": {},
     "output_type": "execute_result"
    }
   ],
   "source": [
    "import os\n",
    "output_filename = os.path.join(os.path.expanduser(\"~\"), \"For Data Analysis\",\n",
    "                                                        \"Data_Mining\",\"Chapter06\",\"Dataset\",\"python_tweets.json\")\n",
    "output_filename\n"
   ]
  },
  {
   "cell_type": "code",
   "execution_count": 49,
   "metadata": {},
   "outputs": [],
   "source": [
    "api = tweepy.API(auth,proxy='127.0.0.1:1080')"
   ]
  },
  {
   "cell_type": "code",
   "execution_count": 52,
   "metadata": {},
   "outputs": [],
   "source": [
    "#对对象进行迭代\n",
    "with open(output_filename , 'a') as output_file:\n",
    "    search_results = api.search(q='python',count=100)\n",
    "    for tweet in search_results:\n",
    "        #tweet还是一个对象,推特的相关信息在tweer._json里\n",
    "        #这里是检测消息是否含有'text'键,并不是所有TWitter返回的所有对象都是消息(有些可能是用来删除消息或者其他内容的动作--这个没有确认),区别就是消息对象中是否含有'text'键\n",
    "        if 'text' in tweet._json:\n",
    "            output_file.write(json.dumps(tweet._json,sort_keys=True, indent=4, separators=(',', ':'))+\"\\n\\n\\n\\n\")"
   ]
  },
  {
   "cell_type": "code",
   "execution_count": 14,
   "metadata": {},
   "outputs": [
    {
     "ename": "NameError",
     "evalue": "name 'id_list' is not defined",
     "output_type": "error",
     "traceback": [
      "\u001b[1;31m---------------------------------------------------------------------------\u001b[0m",
      "\u001b[1;31mNameError\u001b[0m                                 Traceback (most recent call last)",
      "\u001b[1;32m<ipython-input-14-f96c57596cff>\u001b[0m in \u001b[0;36m<module>\u001b[1;34m()\u001b[0m\n\u001b[1;32m----> 1\u001b[1;33m \u001b[0msearch_result\u001b[0m \u001b[1;33m=\u001b[0m \u001b[0mapi\u001b[0m\u001b[1;33m.\u001b[0m\u001b[0mstatuses_lookup\u001b[0m\u001b[1;33m(\u001b[0m\u001b[0mid_list\u001b[0m\u001b[1;33m)\u001b[0m\u001b[1;33m\u001b[0m\u001b[0m\n\u001b[0m",
      "\u001b[1;31mNameError\u001b[0m: name 'id_list' is not defined"
     ]
    }
   ],
   "source": []
  }
 ],
 "metadata": {
  "kernelspec": {
   "display_name": "Python 3",
   "language": "python",
   "name": "python3"
  },
  "language_info": {
   "codemirror_mode": {
    "name": "ipython",
    "version": 3
   },
   "file_extension": ".py",
   "mimetype": "text/x-python",
   "name": "python",
   "nbconvert_exporter": "python",
   "pygments_lexer": "ipython3",
   "version": "3.6.0"
  }
 },
 "nbformat": 4,
 "nbformat_minor": 1
}
