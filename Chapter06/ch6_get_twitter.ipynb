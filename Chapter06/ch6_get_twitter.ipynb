{
 "cells": [
  {
   "cell_type": "code",
   "execution_count": 1,
   "metadata": {},
   "outputs": [],
   "source": [
    "import twitter\n",
    "consumer_key = \"5C5RR8RVG2WAeVVXXPxb5gVZg\"\n",
    "consumer_secret = \"U235aRDpVP4vxX6YPok5jmcPGEk1DUCBDE3i5dEJTaLKgUg0Wi\"\n",
    "access_token = \"1003108045851770881-XISvGy6O89huHDhojrK1DOAGWR7st4\"\n",
    "access_token_secret = \"dDRIf1lk0WgbS0gHpLH1t2hDWRBhmm6398YeoxC4aSOWX\"\n",
    "authorization = twitter.OAuth(access_token, access_token_secret, consumer_key, consumer_secret)"
   ]
  },
  {
   "cell_type": "code",
   "execution_count": 2,
   "metadata": {},
   "outputs": [],
   "source": [
    "import tweepy\n",
    "auth = tweepy.OAuthHandler(consumer_key , consumer_secret)\n",
    "auth.set_access_token(access_token , access_token_secret)\n"
   ]
  },
  {
   "cell_type": "code",
   "execution_count": 3,
   "metadata": {},
   "outputs": [
    {
     "data": {
      "text/plain": [
       "'E:\\\\Microsoft VS Code\\\\Projects\\\\For Data Analysis\\\\Data_Mining\\\\Chapter06\\\\Dataset\\\\python_tweets.json'"
      ]
     },
     "execution_count": 3,
     "metadata": {},
     "output_type": "execute_result"
    }
   ],
   "source": [
    "import os\n",
    "output_filename = os.path.join(os.path.expanduser(\"~\"), \"For Data Analysis\",\n",
    "                                                        \"Data_Mining\",\"Chapter06\",\"Dataset\",\"python_tweets.json\")\n",
    "output_filename\n"
   ]
  },
  {
   "cell_type": "code",
   "execution_count": 35,
   "metadata": {},
   "outputs": [],
   "source": [
    "api = tweepy.API(auth,proxy='127.0.0.1:1080')\n",
    "#其中id_list 是消息ID组成的list 长度也不要超过100\n",
    "#search_result = api.statuses_lookup(id_list)"
   ]
  },
  {
   "cell_type": "code",
   "execution_count": 37,
   "metadata": {
    "scrolled": true
   },
   "outputs": [],
   "source": [
    "with open(output_filename,'a') as output_file:\n",
    "    search_results = api.search(q = 'Python',count = 100)\n",
    "    for tweet in search_results:\n",
    "        if 'text' in tweet._json:\n",
    "            #print(tweet.text)\n",
    "            #output_file.write(json.dumps(tweet._json, sort_keys=True, indent=4)+'\\n\\n\\n\\n')\n",
    "            output_file.write(json.dumps(tweet._json))\n",
    "            output_file.write(\"\\n\\n\")"
   ]
  },
  {
   "cell_type": "code",
   "execution_count": null,
   "metadata": {},
   "outputs": [],
   "source": []
  }
 ],
 "metadata": {
  "kernelspec": {
   "display_name": "Python 3",
   "language": "python",
   "name": "python3"
  },
  "language_info": {
   "codemirror_mode": {
    "name": "ipython",
    "version": 3
   },
   "file_extension": ".py",
   "mimetype": "text/x-python",
   "name": "python",
   "nbconvert_exporter": "python",
   "pygments_lexer": "ipython3",
   "version": "3.6.0"
  }
 },
 "nbformat": 4,
 "nbformat_minor": 1
}
