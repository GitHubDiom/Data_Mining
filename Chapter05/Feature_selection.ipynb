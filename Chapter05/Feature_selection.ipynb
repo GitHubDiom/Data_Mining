{
 "cells": [
  {
   "cell_type": "code",
   "execution_count": 1,
   "metadata": {},
   "outputs": [],
   "source": [
    "import pandas as pd\n",
    "import os\n",
    "adult = pd.read_csv('./Data/Adult/adult.data', header=None, \n",
    "                    names=[\"Age\", \"Work-Class\", \"fnlwgt\", \"Education\", \n",
    "                           \"Education-Num\", \"Marital-Status\", \"Occupation\",\n",
    "                           \"Relationship\", \"Race\", \"Sex\", \"Capital-gain\", \n",
    "                           \"Capital-loss\", \"Hours-per-week\", \"Native-Country\",\n",
    "                           \"Earnings-Raws\"])\n",
    "adult['LongHours'] = adult['Hours-per-week'] > 40\n"
   ]
  },
  {
   "cell_type": "code",
   "execution_count": 2,
   "metadata": {},
   "outputs": [],
   "source": [
    "#将所有数值型特征存储为X , 目标是找到影响“结果”程度最大的几个特征\n",
    "X = adult[[\"Age\",\"Education-Num\",\"Capital-gain\",\"Capital-loss\",\"Hours-per-week\"]].values\n",
    "adult['High_Earnings']  = adult['Earnings-Raws'] == ' >50K'\n"
   ]
  },
  {
   "cell_type": "code",
   "execution_count": 3,
   "metadata": {},
   "outputs": [
    {
     "data": {
      "text/plain": [
       "array([8.60061182e+03, 2.40142178e+03, 8.21924671e+07, 1.37214589e+06,\n",
       "       6.47640900e+03])"
      ]
     },
     "execution_count": 3,
     "metadata": {},
     "output_type": "execute_result"
    }
   ],
   "source": [
    "from sklearn.feature_selection import SelectKBest,chi2#选取K种影响结果程度最大的k个特征 \n",
    "transformer_chi2 = SelectKBest(score_func= chi2 , k = 3)#选取方式是chi2 (卡方函数) ，k = 3\n",
    "X_chi2 = transformer_chi2.fit_transform(X , adult['High_Earnings'])\n",
    "transformer_chi2.scores_ #得分越高， 说明该特征队结果（adult['High_Earnings']）的影响力越大"
   ]
  },
  {
   "cell_type": "code",
   "execution_count": 4,
   "metadata": {},
   "outputs": [],
   "source": [
    "import numpy as np\n",
    "from scipy.stats import pearsonr\n",
    "def pearson(X , Y):\n",
    "    scores , ps = [], []\n",
    "    for col in range(X.shape[1]):\n",
    "        cur_socre , cur_p = pearsonr(X[:,col], Y)#计算所有行的当前列元素和Y之间的相关系数和p值\n",
    "        '''\n",
    "            p值为检验p值， p值越小说明两者的关系越密切(二者关系越显著)\n",
    "            即单靠相关系数无法得出二者正确的相关性， 需要结合显著水平考虑\n",
    "        '''\n",
    "        scores.append(cur_socre)\n",
    "        ps.append(cur_p)\n",
    "    return np.array(scores) , np.array(ps)\n",
    "        "
   ]
  },
  {
   "cell_type": "code",
   "execution_count": 5,
   "metadata": {},
   "outputs": [
    {
     "data": {
      "text/plain": [
       "array([0.2340371 , 0.33515395, 0.22332882, 0.15052631, 0.22968907])"
      ]
     },
     "execution_count": 5,
     "metadata": {},
     "output_type": "execute_result"
    }
   ],
   "source": [
    "transformer_pearson  = SelectKBest(score_func= pearson ,  k= 3)\n",
    "X_pearson = transformer_pearson.fit_transform(X , adult['High_Earnings'])#score_func 在此时调用到\n",
    "transformer_pearson.scores_"
   ]
  },
  {
   "cell_type": "code",
   "execution_count": 6,
   "metadata": {},
   "outputs": [
    {
     "data": {
      "text/plain": [
       "(array([[39, 13, 40],\n",
       "        [50, 13, 13],\n",
       "        [38,  9, 40],\n",
       "        ...,\n",
       "        [58,  9, 40],\n",
       "        [22,  9, 20],\n",
       "        [52,  9, 40]], dtype=int64), array([[   39,  2174,     0],\n",
       "        [   50,     0,     0],\n",
       "        [   38,     0,     0],\n",
       "        ...,\n",
       "        [   58,     0,     0],\n",
       "        [   22,     0,     0],\n",
       "        [   52, 15024,     0]], dtype=int64))"
      ]
     },
     "execution_count": 6,
     "metadata": {},
     "output_type": "execute_result"
    }
   ],
   "source": [
    "X_pearson,X_chi2#不同的方法选择出影响程度最大的k种特征（k=3）"
   ]
  },
  {
   "cell_type": "code",
   "execution_count": 7,
   "metadata": {},
   "outputs": [
    {
     "name": "stderr",
     "output_type": "stream",
     "text": [
      "e:\\python36\\lib\\site-packages\\sklearn\\cross_validation.py:41: DeprecationWarning: This module was deprecated in version 0.18 in favor of the model_selection module into which all the refactored classes and functions are moved. Also note that the interface of the new CV iterators are different from that of this module. This module will be removed in 0.20.\n",
      "  \"This module will be removed in 0.20.\", DeprecationWarning)\n"
     ]
    },
    {
     "data": {
      "text/plain": [
       "(82.85986761581545, 77.06459415969852)"
      ]
     },
     "execution_count": 7,
     "metadata": {},
     "output_type": "execute_result"
    }
   ],
   "source": [
    "from sklearn.cross_validation import cross_val_score\n",
    "from sklearn.tree import DecisionTreeClassifier\n",
    "clf = DecisionTreeClassifier(random_state=14)\n",
    "scores_chi2 = cross_val_score(clf , X_chi2 , adult['High_Earnings'] , scoring = 'accuracy')\n",
    "scores_pearson = cross_val_score(clf , X_pearson , adult['High_Earnings'] , scoring='accuracy')\n",
    "np.mean(scores_chi2)*100, np.mean(scores_pearson)*100"
   ]
  },
  {
   "cell_type": "code",
   "execution_count": 8,
   "metadata": {},
   "outputs": [
    {
     "name": "stdout",
     "output_type": "stream",
     "text": [
      "[0.99702849]\n"
     ]
    },
    {
     "data": {
      "text/plain": [
       "82.92435855401915"
      ]
     },
     "execution_count": 8,
     "metadata": {},
     "output_type": "execute_result"
    }
   ],
   "source": [
    "'''\n",
    "http://blog.codinglabs.org/articles/pca-tutorial.html\n",
    "讲解PCA原理的博客\n",
    "'''\n",
    "from sklearn.decomposition import PCA\n",
    "pca = PCA(n_components=1)\n",
    "X_d = pca.fit_transform(X)#X_Recudtion_D 为X降维到5-D的数据集\n",
    "print(pca.explained_variance_ratio_)\n",
    "scores = cross_val_score(clf , X_d , adult['High_Earnings'] , scoring= 'accuracy')\n",
    "np.mean(scores)*100\n",
    "#利用pca选取方差最大的k个特征后作为测试特征后效果比用卡方函数打分后选取的特征好"
   ]
  },
  {
   "cell_type": "code",
   "execution_count": 14,
   "metadata": {},
   "outputs": [],
   "source": [
    "from sklearn.base import TransformerMixin\n",
    "from sklearn.utils import as_float_array"
   ]
  },
  {
   "cell_type": "code",
   "execution_count": 132,
   "metadata": {},
   "outputs": [],
   "source": [
    "class MeanDiscrete(TransformerMixin):\n",
    "    def fit(self , X ,Y=None):#防止fit进来的参数个数不一样，单纯fit X时，默认Y=None,\n",
    "        X = as_float_array(X)\n",
    "        self.mean = X.mean(axis  = 0)\n",
    "        return self\n",
    "    def transform(self , X):\n",
    "        X = as_float_array(X)\n",
    "        assert X.shape[1] == self.mean.shape[0]\n",
    "        return X>self.mean\n"
   ]
  },
  {
   "cell_type": "code",
   "execution_count": 135,
   "metadata": {},
   "outputs": [],
   "source": [
    "mean_discrete = MeanDiscrete()\n",
    "X_mean = mean_discrete.fit_transform(X)#继承了TransformerMixin的fit_transform且调用了MeanDiscrete的fit和transform"
   ]
  },
  {
   "cell_type": "code",
   "execution_count": 136,
   "metadata": {},
   "outputs": [],
   "source": [
    "from numpy.testing import assert_array_equal"
   ]
  },
  {
   "cell_type": "code",
   "execution_count": 137,
   "metadata": {},
   "outputs": [],
   "source": [
    "'''\n",
    "    测试块\n",
    "'''\n",
    "def test_meandiscrete():\n",
    "    X_test = np.array([[ 0,  2],\n",
    "                        [ 3,  5],\n",
    "                        [ 6,  8],\n",
    "                        [ 9, 11],\n",
    "                        [12, 14],\n",
    "                        [15, 17],\n",
    "                        [18, 20],\n",
    "                        [21, 23],\n",
    "                        [24, 26],\n",
    "                        [27, 29]])\n",
    "    mean_discrete = MeanDiscrete()\n",
    "    mean_discrete.fit(X_test)\n",
    "    assert_array_equal(mean_discrete.mean , np.array([13.5 , 15.5]))\n",
    "    X_transformed = mean_discrete.transform(X_test)\n",
    "    X_expected = np.array([[ 0,  0],\n",
    "                            [ 0, 0],\n",
    "                            [ 0, 0],\n",
    "                            [ 0, 0],\n",
    "                            [ 0, 0],\n",
    "                            [ 1, 1],\n",
    "                            [ 1, 1],\n",
    "                            [ 1, 1],\n",
    "                            [ 1, 1],\n",
    "                            [ 1, 1]])\n",
    "    assert_array_equal(X_transformed ,X_expected )\n",
    "test_meandiscrete()\n"
   ]
  },
  {
   "cell_type": "code",
   "execution_count": 139,
   "metadata": {},
   "outputs": [
    {
     "data": {
      "text/plain": [
       "80.2708793713566"
      ]
     },
     "execution_count": 139,
     "metadata": {},
     "output_type": "execute_result"
    }
   ],
   "source": [
    "'''\n",
    "    自己创建转换器：MeanDiscrete，返回各列的值是否大于该列的平均值\n",
    "'''\n",
    "from sklearn.pipeline import Pipeline\n",
    "from sklearn.preprocessing import MinMaxScaler\n",
    "\n",
    "pipeline = Pipeline([\n",
    "                    (\"meandiscrete\",MeanDiscrete()),\n",
    "                    (\"classfier\", DecisionTreeClassifier(random_state = 14))\n",
    "                    ])\n",
    "scores = cross_val_score(pipeline , X , adult['High_Earnings'] , scoring = 'accuracy')\n",
    "'''\n",
    "   函数构造参数时，设定形参的默认值可以兼容不用调用需求下形参个数不一的情况 ，如上方MeanDiscrete类中设定Y=None的函数\n",
    "'''\n",
    "np.mean(scores)*100\n",
    "#np.mean(cross_val_score(clf,MeanDiscrete().fit_transform(X),adult['High_Earnings'] ,scoring = 'accuracy'))*100\n"
   ]
  },
  {
   "cell_type": "code",
   "execution_count": null,
   "metadata": {},
   "outputs": [],
   "source": []
  }
 ],
 "metadata": {
  "kernelspec": {
   "display_name": "Python 3",
   "language": "python",
   "name": "python3"
  },
  "language_info": {
   "codemirror_mode": {
    "name": "ipython",
    "version": 3
   },
   "file_extension": ".py",
   "mimetype": "text/x-python",
   "name": "python",
   "nbconvert_exporter": "python",
   "pygments_lexer": "ipython3",
   "version": "3.6.0"
  }
 },
 "nbformat": 4,
 "nbformat_minor": 2
}
