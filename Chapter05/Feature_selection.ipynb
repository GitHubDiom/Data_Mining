{
 "cells": [
  {
   "cell_type": "code",
   "execution_count": 83,
   "metadata": {},
   "outputs": [],
   "source": [
    "import pandas as pd\n",
    "import os\n",
    "adult = pd.read_csv('./Data/Adult/adult.data', header=None, \n",
    "                    names=[\"Age\", \"Work-Class\", \"fnlwgt\", \"Education\", \n",
    "                           \"Education-Num\", \"Marital-Status\", \"Occupation\",\n",
    "                           \"Relationship\", \"Race\", \"Sex\", \"Capital-gain\", \n",
    "                           \"Capital-loss\", \"Hours-per-week\", \"Native-Country\",\n",
    "                           \"Earnings-Raws\"])\n",
    "adult['LongHours'] = adult['Hours-per-week'] > 40\n"
   ]
  },
  {
   "cell_type": "code",
   "execution_count": 84,
   "metadata": {},
   "outputs": [],
   "source": [
    "#将所有数值型特征存储为X , 目标是找到影响“结果”程度最大的几个特征\n",
    "X = adult[[\"Age\",\"Education-Num\",\"Capital-gain\",\"Capital-loss\",\"Hours-per-week\"]].values\n",
    "adult['High_Earnings']  = adult['Earnings-Raws'] == ' >50K'\n"
   ]
  },
  {
   "cell_type": "code",
   "execution_count": 85,
   "metadata": {},
   "outputs": [
    {
     "data": {
      "text/plain": [
       "array([    8600.612,     2401.422, 82192467.142,  1372145.89 ,\n",
       "           6476.409])"
      ]
     },
     "execution_count": 85,
     "metadata": {},
     "output_type": "execute_result"
    }
   ],
   "source": [
    "from sklearn.feature_selection import SelectKBest,chi2#选取K种影响结果程度最大的k个特征 \n",
    "transformer_chi2 = SelectKBest(score_func= chi2 , k = 3)#选取方式是chi2 (卡方函数) ，k = 3\n",
    "X_chi2 = transformer_chi2.fit_transform(X , adult['High_Earnings'])\n",
    "transformer_chi2.scores_ #得分越高， 说明该特征队结果（adult['High_Earnings']）的影响力越大"
   ]
  },
  {
   "cell_type": "code",
   "execution_count": 86,
   "metadata": {},
   "outputs": [],
   "source": [
    "import numpy as np\n",
    "from scipy.stats import pearsonr\n",
    "def pearson(X , Y):\n",
    "    scores , ps = [], []\n",
    "    for col in range(X.shape[1]):\n",
    "        cur_socre , cur_p = pearsonr(X[:,col], Y)#计算所有行的当前列元素和Y之间的相关系数和p值\n",
    "        '''\n",
    "            p值为检验p值， p值越小说明两者的关系越密切(二者关系越显著)\n",
    "            即单靠相关系数无法得出二者正确的相关性， 需要结合显著水平考虑\n",
    "        '''\n",
    "        scores.append(cur_socre)\n",
    "        ps.append(cur_p)\n",
    "    return np.array(scores) , np.array(ps)\n",
    "        "
   ]
  },
  {
   "cell_type": "code",
   "execution_count": 87,
   "metadata": {},
   "outputs": [
    {
     "data": {
      "text/plain": [
       "array([0.234, 0.335, 0.223, 0.151, 0.23 ])"
      ]
     },
     "execution_count": 87,
     "metadata": {},
     "output_type": "execute_result"
    }
   ],
   "source": [
    "transformer_pearson  = SelectKBest(score_func= pearson ,  k= 3)\n",
    "X_pearson = transformer_pearson.fit_transform(X , adult['High_Earnings'])#score_func 在此时调用到\n",
    "transformer_pearson.scores_"
   ]
  },
  {
   "cell_type": "code",
   "execution_count": 88,
   "metadata": {},
   "outputs": [
    {
     "data": {
      "text/plain": [
       "(array([[39, 13, 40],\n",
       "        [50, 13, 13],\n",
       "        [38,  9, 40],\n",
       "        ...,\n",
       "        [58,  9, 40],\n",
       "        [22,  9, 20],\n",
       "        [52,  9, 40]], dtype=int64), array([[   39,  2174,     0],\n",
       "        [   50,     0,     0],\n",
       "        [   38,     0,     0],\n",
       "        ...,\n",
       "        [   58,     0,     0],\n",
       "        [   22,     0,     0],\n",
       "        [   52, 15024,     0]], dtype=int64))"
      ]
     },
     "execution_count": 88,
     "metadata": {},
     "output_type": "execute_result"
    }
   ],
   "source": [
    "X_pearson,X_chi2#不同的方法选择出影响程度最大的k种特征（k=3）"
   ]
  },
  {
   "cell_type": "code",
   "execution_count": 89,
   "metadata": {},
   "outputs": [
    {
     "data": {
      "text/plain": [
       "(82.85986761581545, 77.06459415969852)"
      ]
     },
     "execution_count": 89,
     "metadata": {},
     "output_type": "execute_result"
    }
   ],
   "source": [
    "from sklearn.cross_validation import cross_val_score\n",
    "from sklearn.tree import DecisionTreeClassifier\n",
    "clf = DecisionTreeClassifier(random_state=14)\n",
    "scores_chi2 = cross_val_score(clf , X_chi2 , adult['High_Earnings'] , scoring = 'accuracy')\n",
    "scores_pearson = cross_val_score(clf , X_pearson , adult['High_Earnings'] , scoring='accuracy')\n",
    "np.mean(scores_chi2)*100, np.mean(scores_pearson)*100"
   ]
  },
  {
   "cell_type": "code",
   "execution_count": 91,
   "metadata": {},
   "outputs": [
    {
     "name": "stdout",
     "output_type": "stream",
     "text": [
      "[0.997]\n"
     ]
    },
    {
     "data": {
      "text/plain": [
       "82.92435855401915"
      ]
     },
     "execution_count": 91,
     "metadata": {},
     "output_type": "execute_result"
    }
   ],
   "source": [
    "'''\n",
    "http://blog.codinglabs.org/articles/pca-tutorial.html\n",
    "讲解PCA原理的博客\n",
    "'''\n",
    "from sklearn.decomposition import PCA\n",
    "pca = PCA(n_components=1)\n",
    "X_d = pca.fit_transform(X)#X_Recudtion_D 为X降维到5-D的数据集\n",
    "print(pca.explained_variance_ratio_)\n",
    "scores = cross_val_score(clf , X_d , adult['High_Earnings'] , scoring= 'accuracy')\n",
    "np.mean(scores)*100\n",
    "#利用pca选取方差最大的k个特征后作为测试特征后效果比用卡方函数打分后选取的特征好"
   ]
  },
  {
   "cell_type": "code",
   "execution_count": null,
   "metadata": {},
   "outputs": [],
   "source": []
  }
 ],
 "metadata": {
  "kernelspec": {
   "display_name": "Python 3",
   "language": "python",
   "name": "python3"
  },
  "language_info": {
   "codemirror_mode": {
    "name": "ipython",
    "version": 3
   },
   "file_extension": ".py",
   "mimetype": "text/x-python",
   "name": "python",
   "nbconvert_exporter": "python",
   "pygments_lexer": "ipython3",
   "version": "3.6.0"
  }
 },
 "nbformat": 4,
 "nbformat_minor": 2
}
