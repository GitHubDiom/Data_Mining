{
 "cells": [
  {
   "cell_type": "code",
   "execution_count": 38,
   "metadata": {},
   "outputs": [
    {
     "data": {
      "text/plain": [
       "array([7])"
      ]
     },
     "execution_count": 38,
     "metadata": {},
     "output_type": "execute_result"
    }
   ],
   "source": [
    "from sklearn.cross_validation import cross_val_score\n",
    "from sklearn.tree import  DecisionTreeClassifier\n",
    "import numpy as np\n",
    "feature = []\n",
    "result = []\n",
    "for i in range(20):\n",
    "    feature.append([i,i+1,i+2,i+3])\n",
    "    result.append(i)\n",
    "test_feature = [[445,126,515,6]]\n",
    "clf = DecisionTreeClassifier(random_state= 14)\n",
    "clf.fit(feature , result)\n",
    "clf.predict(test_feature)"
   ]
  }
 ],
 "metadata": {
  "kernelspec": {
   "display_name": "Python 3",
   "language": "python",
   "name": "python3"
  },
  "language_info": {
   "codemirror_mode": {
    "name": "ipython",
    "version": 3
   },
   "file_extension": ".py",
   "mimetype": "text/x-python",
   "name": "python",
   "nbconvert_exporter": "python",
   "pygments_lexer": "ipython3",
   "version": "3.6.0"
  }
 },
 "nbformat": 4,
 "nbformat_minor": 2
}
