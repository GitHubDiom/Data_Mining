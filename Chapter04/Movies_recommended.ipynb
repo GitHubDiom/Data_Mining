{
 "cells": [
  {
   "cell_type": "code",
   "execution_count": 1,
   "metadata": {},
   "outputs": [
    {
     "data": {
      "text/html": [
       "<div>\n",
       "<style scoped>\n",
       "    .dataframe tbody tr th:only-of-type {\n",
       "        vertical-align: middle;\n",
       "    }\n",
       "\n",
       "    .dataframe tbody tr th {\n",
       "        vertical-align: top;\n",
       "    }\n",
       "\n",
       "    .dataframe thead th {\n",
       "        text-align: right;\n",
       "    }\n",
       "</style>\n",
       "<table border=\"1\" class=\"dataframe\">\n",
       "  <thead>\n",
       "    <tr style=\"text-align: right;\">\n",
       "      <th></th>\n",
       "      <th>UserID</th>\n",
       "      <th>MovieID</th>\n",
       "      <th>Rating</th>\n",
       "      <th>Datetime</th>\n",
       "    </tr>\n",
       "  </thead>\n",
       "  <tbody>\n",
       "    <tr>\n",
       "      <th>0</th>\n",
       "      <td>196</td>\n",
       "      <td>242</td>\n",
       "      <td>3</td>\n",
       "      <td>1997-12-04 15:55:49</td>\n",
       "    </tr>\n",
       "    <tr>\n",
       "      <th>1</th>\n",
       "      <td>186</td>\n",
       "      <td>302</td>\n",
       "      <td>3</td>\n",
       "      <td>1998-04-04 19:22:22</td>\n",
       "    </tr>\n",
       "    <tr>\n",
       "      <th>2</th>\n",
       "      <td>22</td>\n",
       "      <td>377</td>\n",
       "      <td>1</td>\n",
       "      <td>1997-11-07 07:18:36</td>\n",
       "    </tr>\n",
       "    <tr>\n",
       "      <th>3</th>\n",
       "      <td>244</td>\n",
       "      <td>51</td>\n",
       "      <td>2</td>\n",
       "      <td>1997-11-27 05:02:03</td>\n",
       "    </tr>\n",
       "    <tr>\n",
       "      <th>4</th>\n",
       "      <td>166</td>\n",
       "      <td>346</td>\n",
       "      <td>1</td>\n",
       "      <td>1998-02-02 05:33:16</td>\n",
       "    </tr>\n",
       "    <tr>\n",
       "      <th>5</th>\n",
       "      <td>298</td>\n",
       "      <td>474</td>\n",
       "      <td>4</td>\n",
       "      <td>1998-01-07 14:20:06</td>\n",
       "    </tr>\n",
       "  </tbody>\n",
       "</table>\n",
       "</div>"
      ],
      "text/plain": [
       "   UserID  MovieID  Rating            Datetime\n",
       "0     196      242       3 1997-12-04 15:55:49\n",
       "1     186      302       3 1998-04-04 19:22:22\n",
       "2      22      377       1 1997-11-07 07:18:36\n",
       "3     244       51       2 1997-11-27 05:02:03\n",
       "4     166      346       1 1998-02-02 05:33:16\n",
       "5     298      474       4 1998-01-07 14:20:06"
      ]
     },
     "execution_count": 1,
     "metadata": {},
     "output_type": "execute_result"
    }
   ],
   "source": [
    "import os,pandas as pd\n",
    "file_name = './ml-100k/u.data'\n",
    "all_ratings = pd.read_csv(file_name , delimiter='\\t',names = ['UserID' , 'MovieID', 'Rating', 'Datetime'],header=None)\n",
    "all_ratings['Datetime'] = pd.to_datetime(all_ratings['Datetime'],unit='s')\n",
    "all_ratings[:6]"
   ]
  },
  {
   "cell_type": "code",
   "execution_count": 2,
   "metadata": {},
   "outputs": [
    {
     "data": {
      "text/html": [
       "<div>\n",
       "<style scoped>\n",
       "    .dataframe tbody tr th:only-of-type {\n",
       "        vertical-align: middle;\n",
       "    }\n",
       "\n",
       "    .dataframe tbody tr th {\n",
       "        vertical-align: top;\n",
       "    }\n",
       "\n",
       "    .dataframe thead th {\n",
       "        text-align: right;\n",
       "    }\n",
       "</style>\n",
       "<table border=\"1\" class=\"dataframe\">\n",
       "  <thead>\n",
       "    <tr style=\"text-align: right;\">\n",
       "      <th></th>\n",
       "      <th>UserID</th>\n",
       "      <th>MovieID</th>\n",
       "      <th>Rating</th>\n",
       "      <th>Datetime</th>\n",
       "      <th>favorable</th>\n",
       "    </tr>\n",
       "  </thead>\n",
       "  <tbody>\n",
       "    <tr>\n",
       "      <th>16</th>\n",
       "      <td>122</td>\n",
       "      <td>387</td>\n",
       "      <td>5</td>\n",
       "      <td>1997-11-11 17:47:39</td>\n",
       "      <td>True</td>\n",
       "    </tr>\n",
       "    <tr>\n",
       "      <th>20</th>\n",
       "      <td>119</td>\n",
       "      <td>392</td>\n",
       "      <td>4</td>\n",
       "      <td>1998-01-30 16:13:34</td>\n",
       "      <td>True</td>\n",
       "    </tr>\n",
       "    <tr>\n",
       "      <th>21</th>\n",
       "      <td>167</td>\n",
       "      <td>486</td>\n",
       "      <td>4</td>\n",
       "      <td>1998-04-16 14:54:12</td>\n",
       "      <td>True</td>\n",
       "    </tr>\n",
       "    <tr>\n",
       "      <th>26</th>\n",
       "      <td>38</td>\n",
       "      <td>95</td>\n",
       "      <td>5</td>\n",
       "      <td>1998-04-13 01:14:54</td>\n",
       "      <td>True</td>\n",
       "    </tr>\n",
       "    <tr>\n",
       "      <th>28</th>\n",
       "      <td>63</td>\n",
       "      <td>277</td>\n",
       "      <td>4</td>\n",
       "      <td>1997-10-01 23:10:01</td>\n",
       "      <td>True</td>\n",
       "    </tr>\n",
       "    <tr>\n",
       "      <th>29</th>\n",
       "      <td>160</td>\n",
       "      <td>234</td>\n",
       "      <td>5</td>\n",
       "      <td>1997-10-14 20:33:05</td>\n",
       "      <td>True</td>\n",
       "    </tr>\n",
       "  </tbody>\n",
       "</table>\n",
       "</div>"
      ],
      "text/plain": [
       "    UserID  MovieID  Rating            Datetime  favorable\n",
       "16     122      387       5 1997-11-11 17:47:39       True\n",
       "20     119      392       4 1998-01-30 16:13:34       True\n",
       "21     167      486       4 1998-04-16 14:54:12       True\n",
       "26      38       95       5 1998-04-13 01:14:54       True\n",
       "28      63      277       4 1997-10-01 23:10:01       True\n",
       "29     160      234       5 1997-10-14 20:33:05       True"
      ]
     },
     "execution_count": 2,
     "metadata": {},
     "output_type": "execute_result"
    }
   ],
   "source": [
    "all_ratings['favorable'] = all_ratings['Rating']>3\n",
    "favorable_ratings = all_ratings[all_ratings['UserID'].isin(range(200))&all_ratings['favorable']]\n",
    "favorable_ratings[:6]"
   ]
  },
  {
   "cell_type": "code",
   "execution_count": 3,
   "metadata": {
    "scrolled": false
   },
   "outputs": [
    {
     "data": {
      "text/html": [
       "<div>\n",
       "<style scoped>\n",
       "    .dataframe tbody tr th:only-of-type {\n",
       "        vertical-align: middle;\n",
       "    }\n",
       "\n",
       "    .dataframe tbody tr th {\n",
       "        vertical-align: top;\n",
       "    }\n",
       "\n",
       "    .dataframe thead th {\n",
       "        text-align: right;\n",
       "    }\n",
       "</style>\n",
       "<table border=\"1\" class=\"dataframe\">\n",
       "  <thead>\n",
       "    <tr style=\"text-align: right;\">\n",
       "      <th></th>\n",
       "      <th>favorable</th>\n",
       "    </tr>\n",
       "    <tr>\n",
       "      <th>MovieID</th>\n",
       "      <th></th>\n",
       "    </tr>\n",
       "  </thead>\n",
       "  <tbody>\n",
       "    <tr>\n",
       "      <th>50</th>\n",
       "      <td>100</td>\n",
       "    </tr>\n",
       "    <tr>\n",
       "      <th>100</th>\n",
       "      <td>89</td>\n",
       "    </tr>\n",
       "    <tr>\n",
       "      <th>258</th>\n",
       "      <td>83</td>\n",
       "    </tr>\n",
       "    <tr>\n",
       "      <th>181</th>\n",
       "      <td>79</td>\n",
       "    </tr>\n",
       "    <tr>\n",
       "      <th>174</th>\n",
       "      <td>74</td>\n",
       "    </tr>\n",
       "  </tbody>\n",
       "</table>\n",
       "</div>"
      ],
      "text/plain": [
       "         favorable\n",
       "MovieID           \n",
       "50             100\n",
       "100             89\n",
       "258             83\n",
       "181             79\n",
       "174             74"
      ]
     },
     "execution_count": 3,
     "metadata": {},
     "output_type": "execute_result"
    }
   ],
   "source": [
    "'''\n",
    "    1.统计每个用户喜欢过的电影\n",
    "    2.统计每部电影的被喜欢数\n",
    "'''\n",
    "favorated_by_users = {user : frozenset(movieid) for user , movieid in favorable_ratings.groupby('UserID')['MovieID']}\n",
    "#movies_favorable_num = favorable_ratings.groupby('MovieID').favorable.sum()\n",
    "#%matplotlib inline\n",
    "movies_favorable_num = favorable_ratings[['MovieID', 'favorable']].groupby('MovieID').count()\n",
    "movies_favorable_num.sort_values('favorable',ascending=False)[:5]\n",
    "#movies_favorable_num.sort_values('favorable',ascending=False)[:5].plot(kind = 'Bar')\n"
   ]
  },
  {
   "cell_type": "code",
   "execution_count": 39,
   "metadata": {},
   "outputs": [
    {
     "data": {
      "text/plain": [
       "{1: {frozenset({1}): 66,\n",
       "  frozenset({7}): 67,\n",
       "  frozenset({9}): 53,\n",
       "  frozenset({50}): 100,\n",
       "  frozenset({56}): 67,\n",
       "  frozenset({64}): 58,\n",
       "  frozenset({79}): 58,\n",
       "  frozenset({98}): 70,\n",
       "  frozenset({100}): 89,\n",
       "  frozenset({127}): 70,\n",
       "  frozenset({172}): 59,\n",
       "  frozenset({174}): 74,\n",
       "  frozenset({181}): 79,\n",
       "  frozenset({258}): 83,\n",
       "  frozenset({286}): 59,\n",
       "  frozenset({313}): 60}}"
      ]
     },
     "execution_count": 39,
     "metadata": {},
     "output_type": "execute_result"
    }
   ],
   "source": [
    "frequent_itemsets = {}\n",
    "min_support = 50\n",
    "frequent_itemsets[1] = dict((frozenset((movie_id,)) , row['favorable'])\n",
    "                           for movie_id , row in movies_favorable_num.iterrows() \n",
    "                           if row['favorable'] > min_support)\n",
    "frequent_itemsets"
   ]
  },
  {
   "cell_type": "code",
   "execution_count": 60,
   "metadata": {
    "scrolled": false
   },
   "outputs": [],
   "source": [
    "from collections import defaultdict\n",
    "def find_frequent_itemsets(favorated_by_users , k_1_itemsets , min_support):\n",
    "    counts = defaultdict(int)\n",
    "    for user , reviews in favorated_by_users.items():\n",
    "        for itemset in k_1_itemsets:\n",
    "            if itemset.issubset(reviews):\n",
    "                for other_reviewed_movie in reviews-itemset:\n",
    "                    current_superset = itemset | frozenset((other_reviewed_movie,))#若other为空集，则用当前子集代替\n",
    "                    counts[current_superset]+=1\n",
    "    return {itemset : frequecy for itemset , frequecy in counts.items() if frequecy >= min_support}\n",
    "#fine_frequent_itemsets(favorated_by_users , frequent_itemsets[1] , 50)\n"
   ]
  },
  {
   "cell_type": "code",
   "execution_count": 66,
   "metadata": {},
   "outputs": [
    {
     "name": "stdout",
     "output_type": "stream",
     "text": [
      "{frozenset({64, 1, 7, 50, 56}): 70, frozenset({1, 7, 79, 50, 56}): 70, frozenset({1, 98, 7, 50, 56}): 80, frozenset({1, 100, 7, 50, 56}): 65, frozenset({1, 7, 172, 50, 56}): 80, frozenset({1, 7, 174, 50, 56}): 90, frozenset({1, 7, 50, 181, 56}): 75, frozenset({64, 1, 7, 79, 50}): 65, frozenset({64, 1, 98, 7, 50}): 75, frozenset({64, 1, 100, 7, 50}): 60, frozenset({64, 1, 7, 172, 50}): 70, frozenset({64, 1, 7, 174, 50}): 80, frozenset({64, 1, 7, 50, 181}): 75, frozenset({1, 98, 7, 79, 50}): 80, frozenset({1, 100, 7, 79, 50}): 60, frozenset({1, 7, 172, 79, 50}): 75, frozenset({1, 7, 174, 79, 50}): 85, frozenset({1, 7, 79, 50, 181}): 80, frozenset({1, 98, 100, 7, 50}): 60, frozenset({1, 98, 7, 172, 50}): 80, frozenset({1, 98, 7, 174, 50}): 95, frozenset({1, 98, 7, 50, 181}): 80, frozenset({1, 100, 7, 172, 50}): 60, frozenset({1, 100, 7, 174, 50}): 70, frozenset({1, 100, 7, 50, 181}): 70, frozenset({1, 7, 172, 174, 50}): 95, frozenset({1, 7, 172, 50, 181}): 80, frozenset({1, 7, 174, 50, 181}): 90, frozenset({64, 1, 7, 79, 56}): 60, frozenset({64, 1, 98, 7, 56}): 75, frozenset({64, 1, 100, 7, 56}): 55, frozenset({64, 1, 7, 172, 56}): 65, frozenset({64, 1, 7, 174, 56}): 75, frozenset({64, 1, 7, 181, 56}): 60, frozenset({1, 98, 7, 79, 56}): 70, frozenset({1, 100, 7, 79, 56}): 60, frozenset({1, 7, 172, 79, 56}): 70, frozenset({1, 7, 174, 79, 56}): 75, frozenset({1, 7, 79, 181, 56}): 65, frozenset({1, 98, 100, 7, 56}): 70, frozenset({1, 98, 7, 172, 56}): 75, frozenset({1, 98, 7, 174, 56}): 85, frozenset({1, 98, 7, 181, 56}): 70, frozenset({1, 100, 7, 172, 56}): 60, frozenset({1, 100, 7, 174, 56}): 70, frozenset({1, 7, 172, 174, 56}): 85, frozenset({1, 7, 172, 181, 56}): 70, frozenset({1, 7, 174, 181, 56}): 75, frozenset({64, 1, 98, 7, 79}): 65, frozenset({64, 1, 7, 172, 79}): 60, frozenset({64, 1, 7, 174, 79}): 65, frozenset({64, 1, 7, 79, 181}): 65, frozenset({64, 1, 98, 100, 7}): 55, frozenset({64, 1, 98, 7, 172}): 70, frozenset({64, 1, 98, 7, 174}): 80, frozenset({64, 1, 98, 7, 181}): 65, frozenset({64, 1, 100, 7, 174}): 60, frozenset({64, 1, 100, 7, 181}): 50, frozenset({64, 1, 7, 172, 174}): 75, frozenset({64, 1, 7, 172, 181}): 65, frozenset({64, 1, 7, 174, 181}): 70, frozenset({1, 98, 100, 7, 79}): 55, frozenset({1, 98, 7, 172, 79}): 75, frozenset({1, 98, 7, 174, 79}): 85, frozenset({1, 98, 7, 79, 181}): 75, frozenset({1, 100, 7, 174, 79}): 60, frozenset({1, 7, 172, 174, 79}): 80, frozenset({1, 7, 172, 79, 181}): 65, frozenset({1, 7, 174, 79, 181}): 75, frozenset({1, 98, 100, 7, 172}): 55, frozenset({1, 98, 100, 7, 174}): 65, frozenset({1, 98, 100, 7, 181}): 50, frozenset({1, 98, 7, 172, 174}): 85, frozenset({1, 98, 7, 172, 181}): 70, frozenset({1, 98, 7, 174, 181}): 80, frozenset({1, 100, 7, 172, 174}): 65, frozenset({1, 100, 7, 172, 181}): 50, frozenset({1, 100, 7, 174, 181}): 55, frozenset({1, 7, 172, 174, 181}): 80, frozenset({64, 1, 79, 50, 56}): 60, frozenset({64, 1, 98, 50, 56}): 85, frozenset({64, 1, 100, 50, 56}): 65, frozenset({64, 1, 50, 56, 127}): 60, frozenset({64, 1, 172, 50, 56}): 65, frozenset({64, 1, 174, 50, 56}): 85, frozenset({64, 1, 50, 181, 56}): 65, frozenset({1, 98, 79, 50, 56}): 70, frozenset({1, 100, 79, 50, 56}): 65, frozenset({1, 172, 79, 50, 56}): 65, frozenset({1, 174, 79, 50, 56}): 80, frozenset({1, 79, 50, 181, 56}): 65, frozenset({1, 98, 100, 50, 56}): 80, frozenset({1, 98, 50, 56, 127}): 60, frozenset({1, 98, 172, 50, 56}): 80, frozenset({1, 98, 174, 50, 56}): 110, frozenset({1, 98, 50, 181, 56}): 85, frozenset({1, 100, 50, 56, 127}): 70, frozenset({1, 100, 172, 50, 56}): 65, frozenset({1, 100, 174, 50, 56}): 95, frozenset({1, 174, 50, 56, 127}): 75, frozenset({1, 172, 174, 50, 56}): 95, frozenset({1, 172, 50, 181, 56}): 80, frozenset({1, 174, 50, 181, 56}): 90, frozenset({64, 1, 98, 79, 50}): 80, frozenset({64, 1, 172, 79, 50}): 65, frozenset({64, 1, 174, 79, 50}): 75, frozenset({64, 1, 79, 50, 181}): 80, frozenset({64, 1, 98, 100, 50}): 70, frozenset({64, 1, 98, 50, 127}): 70, frozenset({64, 1, 98, 172, 50}): 85, frozenset({64, 1, 98, 174, 50}): 100, frozenset({64, 1, 98, 50, 181}): 90, frozenset({64, 1, 100, 50, 127}): 60, frozenset({64, 1, 100, 174, 50}): 75, frozenset({64, 1, 100, 50, 181}): 65, frozenset({64, 1, 174, 50, 127}): 65, frozenset({64, 1, 172, 174, 50}): 85, frozenset({64, 1, 172, 50, 181}): 85, frozenset({64, 1, 174, 50, 181}): 90, frozenset({1, 98, 100, 79, 50}): 55, frozenset({1, 98, 172, 79, 50}): 80, frozenset({1, 98, 174, 79, 50}): 95, frozenset({1, 98, 79, 50, 181}): 90, frozenset({1, 100, 174, 79, 50}): 65, frozenset({1, 172, 174, 79, 50}): 90, frozenset({1, 172, 79, 50, 181}): 80, frozenset({1, 174, 79, 50, 181}): 95, frozenset({1, 98, 100, 50, 127}): 65, frozenset({1, 98, 100, 172, 50}): 65, frozenset({1, 98, 100, 174, 50}): 80, frozenset({1, 98, 100, 50, 181}): 70, frozenset({1, 98, 174, 50, 127}): 65, frozenset({1, 98, 172, 174, 50}): 100, frozenset({1, 98, 172, 50, 181}): 100, frozenset({1, 98, 174, 50, 181}): 105, frozenset({1, 100, 174, 50, 127}): 70, frozenset({1, 100, 172, 174, 50}): 75, frozenset({1, 100, 172, 50, 181}): 70, frozenset({1, 100, 174, 50, 181}): 75, frozenset({1, 172, 174, 50, 181}): 110, frozenset({64, 1, 98, 79, 56}): 70, frozenset({64, 1, 172, 79, 56}): 55, frozenset({64, 1, 174, 79, 56}): 70, frozenset({64, 1, 79, 181, 56}): 55, frozenset({64, 1, 98, 100, 56}): 80, frozenset({64, 1, 98, 56, 127}): 75, frozenset({64, 1, 98, 172, 56}): 70, frozenset({64, 1, 98, 174, 56}): 100, frozenset({64, 1, 98, 181, 56}): 65, frozenset({64, 1, 100, 56, 127}): 70, frozenset({64, 1, 100, 174, 56}): 80, frozenset({64, 1, 174, 56, 127}): 75, frozenset({64, 1, 172, 174, 56}): 70, frozenset({64, 1, 172, 181, 56}): 60, frozenset({64, 1, 174, 181, 56}): 65, frozenset({1, 98, 100, 79, 56}): 65, frozenset({1, 98, 172, 79, 56}): 65, frozenset({1, 98, 174, 79, 56}): 80, frozenset({1, 98, 79, 181, 56}): 65, frozenset({1, 100, 174, 79, 56}): 75, frozenset({1, 172, 174, 79, 56}): 70, frozenset({1, 172, 79, 181, 56}): 60, frozenset({1, 174, 79, 181, 56}): 65, frozenset({1, 98, 100, 56, 127}): 75, frozenset({1, 98, 100, 172, 56}): 60, frozenset({1, 98, 100, 174, 56}): 95, frozenset({1, 98, 174, 56, 127}): 75, frozenset({1, 98, 172, 174, 56}): 85, frozenset({1, 98, 172, 181, 56}): 75, frozenset({1, 98, 174, 181, 56}): 85, frozenset({1, 100, 174, 56, 127}): 85, frozenset({1, 100, 172, 174, 56}): 70, frozenset({1, 172, 174, 181, 56}): 80, frozenset({64, 1, 98, 172, 79}): 70, frozenset({64, 1, 98, 174, 79}): 85, frozenset({64, 1, 98, 79, 181}): 75, frozenset({64, 1, 172, 174, 79}): 70, frozenset({64, 1, 172, 79, 181}): 65, frozenset({64, 1, 174, 79, 181}): 75, frozenset({64, 1, 98, 100, 127}): 75, frozenset({64, 1, 98, 100, 174}): 80, frozenset({64, 1, 98, 100, 181}): 50, frozenset({64, 1, 98, 174, 127}): 80, frozenset({64, 1, 98, 172, 174}): 85, frozenset({64, 1, 98, 172, 181}): 80, frozenset({64, 1, 98, 174, 181}): 80, frozenset({64, 1, 100, 174, 127}): 70, frozenset({64, 1, 100, 174, 181}): 55, frozenset({64, 1, 172, 174, 181}): 80, frozenset({1, 98, 100, 174, 79}): 65, frozenset({1, 98, 172, 174, 79}): 85, frozenset({1, 98, 172, 79, 181}): 75, frozenset({1, 98, 174, 79, 181}): 85, frozenset({1, 172, 174, 79, 181}): 80, frozenset({1, 98, 100, 174, 127}): 70, frozenset({1, 98, 100, 172, 174}): 60, frozenset({1, 98, 100, 172, 181}): 60, frozenset({1, 98, 100, 174, 181}): 60, frozenset({1, 98, 172, 174, 181}): 90, frozenset({1, 100, 172, 174, 181}): 60, frozenset({64, 7, 9, 50, 56}): 70, frozenset({100, 7, 9, 50, 56}): 75, frozenset({7, 9, 174, 50, 56}): 85, frozenset({64, 100, 7, 9, 50}): 65, frozenset({64, 7, 9, 174, 50}): 75, frozenset({100, 7, 9, 174, 50}): 80, frozenset({64, 100, 7, 9, 56}): 70, frozenset({64, 7, 9, 174, 56}): 75, frozenset({100, 7, 9, 174, 56}): 80, frozenset({64, 100, 7, 9, 174}): 70, frozenset({64, 7, 79, 50, 56}): 90, frozenset({64, 98, 7, 50, 56}): 105, frozenset({64, 100, 7, 50, 56}): 90, frozenset({64, 7, 50, 56, 127}): 75, frozenset({64, 7, 172, 50, 56}): 100, frozenset({64, 7, 174, 50, 56}): 115, frozenset({64, 7, 50, 181, 56}): 95, frozenset({64, 258, 7, 50, 56}): 65, frozenset({98, 7, 79, 50, 56}): 105, frozenset({100, 7, 79, 50, 56}): 100, frozenset({7, 79, 50, 56, 127}): 70, frozenset({7, 172, 79, 50, 56}): 110, frozenset({7, 174, 79, 50, 56}): 125, frozenset({7, 79, 50, 181, 56}): 100, frozenset({258, 7, 79, 50, 56}): 75, frozenset({98, 100, 7, 50, 56}): 100, frozenset({98, 7, 50, 56, 127}): 70, frozenset({98, 7, 172, 50, 56}): 105, frozenset({98, 7, 174, 50, 56}): 125, frozenset({98, 7, 50, 181, 56}): 100, frozenset({98, 258, 7, 50, 56}): 85, frozenset({100, 7, 50, 56, 127}): 80, frozenset({100, 7, 172, 50, 56}): 105, frozenset({100, 7, 174, 50, 56}): 125, frozenset({100, 7, 50, 181, 56}): 95, frozenset({258, 100, 7, 50, 56}): 65, frozenset({7, 172, 50, 56, 127}): 75, frozenset({7, 174, 50, 56, 127}): 90, frozenset({7, 172, 174, 50, 56}): 140, frozenset({7, 172, 50, 181, 56}): 120, frozenset({258, 7, 172, 50, 56}): 80, frozenset({7, 174, 50, 181, 56}): 125, frozenset({258, 7, 174, 50, 56}): 85, frozenset({258, 7, 50, 181, 56}): 75, frozenset({64, 98, 7, 79, 50}): 90, frozenset({64, 100, 7, 79, 50}): 75, frozenset({64, 7, 79, 50, 127}): 60, frozenset({64, 7, 172, 79, 50}): 85, frozenset({64, 7, 174, 79, 50}): 95, frozenset({64, 7, 79, 50, 181}): 90, frozenset({64, 258, 7, 79, 50}): 60, frozenset({64, 98, 100, 7, 50}): 80, frozenset({64, 98, 7, 50, 127}): 75, frozenset({64, 98, 7, 172, 50}): 95, frozenset({64, 98, 7, 174, 50}): 110, frozenset({64, 98, 7, 50, 181}): 90, frozenset({64, 98, 258, 7, 50}): 65, frozenset({64, 100, 7, 50, 127}): 70, frozenset({64, 100, 7, 172, 50}): 80, frozenset({64, 100, 7, 174, 50}): 95, frozenset({64, 100, 7, 50, 181}): 80, frozenset({64, 7, 172, 50, 127}): 65, frozenset({64, 7, 174, 50, 127}): 80, frozenset({64, 7, 172, 174, 50}): 110, frozenset({64, 7, 172, 50, 181}): 100, frozenset({64, 258, 7, 172, 50}): 70, frozenset({64, 7, 174, 50, 181}): 105, frozenset({64, 258, 7, 174, 50}): 70, frozenset({64, 258, 7, 50, 181}): 70, frozenset({98, 100, 7, 79, 50}): 85, frozenset({98, 7, 79, 50, 127}): 55, frozenset({98, 7, 172, 79, 50}): 100, frozenset({98, 7, 174, 79, 50}): 120, frozenset({98, 7, 79, 50, 181}): 100, frozenset({98, 258, 7, 79, 50}): 80, frozenset({100, 7, 79, 50, 127}): 65, frozenset({100, 7, 172, 79, 50}): 85, frozenset({100, 7, 174, 79, 50}): 100, frozenset({100, 7, 79, 50, 181}): 85, frozenset({258, 100, 7, 79, 50}): 65, frozenset({7, 172, 79, 50, 127}): 65, frozenset({7, 174, 79, 50, 127}): 75, frozenset({7, 172, 174, 79, 50}): 120, frozenset({7, 172, 79, 50, 181}): 100, frozenset({258, 7, 172, 79, 50}): 70, frozenset({7, 174, 79, 50, 181}): 110, frozenset({258, 7, 174, 79, 50}): 80, frozenset({258, 7, 79, 50, 181}): 75, frozenset({98, 100, 7, 50, 127}): 65, frozenset({98, 100, 7, 172, 50}): 80, frozenset({98, 100, 7, 174, 50}): 100, frozenset({98, 100, 7, 50, 181}): 75, frozenset({98, 258, 100, 7, 50}): 65, frozenset({98, 7, 172, 50, 127}): 60, frozenset({98, 7, 174, 50, 127}): 75, frozenset({98, 7, 172, 174, 50}): 115, frozenset({98, 7, 172, 50, 181}): 100, frozenset({98, 258, 7, 172, 50}): 80, frozenset({98, 7, 174, 50, 181}): 110, frozenset({98, 258, 7, 174, 50}): 90, frozenset({98, 258, 7, 50, 181}): 80, frozenset({100, 7, 172, 50, 127}): 65, frozenset({100, 7, 174, 50, 127}): 80, frozenset({100, 7, 172, 174, 50}): 110, frozenset({100, 7, 172, 50, 181}): 95, frozenset({100, 7, 174, 50, 181}): 100, frozenset({258, 100, 7, 174, 50}): 70, frozenset({258, 100, 7, 50, 181}): 75, frozenset({7, 172, 174, 50, 127}): 80, frozenset({7, 172, 174, 50, 181}): 130, frozenset({258, 7, 172, 174, 50}): 85, frozenset({258, 7, 172, 50, 181}): 80, frozenset({258, 7, 174, 50, 181}): 85, frozenset({64, 98, 7, 79, 56}): 95, frozenset({64, 100, 7, 79, 56}): 80, frozenset({64, 7, 79, 56, 127}): 65, frozenset({64, 7, 172, 79, 56}): 85, frozenset({64, 7, 174, 79, 56}): 95, frozenset({64, 7, 79, 181, 56}): 80, frozenset({64, 258, 7, 79, 56}): 60, frozenset({64, 98, 100, 7, 56}): 95, frozenset({64, 98, 7, 56, 127}): 80, frozenset({64, 98, 7, 172, 56}): 100, frozenset({64, 98, 7, 174, 56}): 110, frozenset({64, 98, 7, 181, 56}): 85, frozenset({64, 98, 258, 7, 56}): 70, frozenset({64, 100, 7, 56, 127}): 85, frozenset({64, 100, 7, 172, 56}): 85, frozenset({64, 100, 7, 174, 56}): 95, frozenset({64, 100, 7, 181, 56}): 70, frozenset({64, 7, 172, 56, 127}): 65, frozenset({64, 7, 174, 56, 127}): 80, frozenset({64, 7, 172, 174, 56}): 105, frozenset({64, 7, 172, 181, 56}): 90, frozenset({64, 258, 7, 172, 56}): 65, frozenset({64, 7, 174, 181, 56}): 95, frozenset({64, 258, 7, 174, 56}): 65, frozenset({64, 258, 7, 181, 56}): 60, frozenset({98, 100, 7, 79, 56}): 100, frozenset({98, 7, 79, 56, 127}): 60, frozenset({98, 7, 172, 79, 56}): 100, frozenset({98, 7, 174, 79, 56}): 115, frozenset({98, 7, 79, 181, 56}): 90, frozenset({98, 258, 7, 79, 56}): 85, frozenset({100, 7, 79, 56, 127}): 75, frozenset({100, 7, 172, 79, 56}): 95, frozenset({100, 7, 174, 79, 56}): 110, frozenset({100, 7, 79, 181, 56}): 80, frozenset({258, 100, 7, 79, 56}): 70, frozenset({7, 172, 79, 56, 127}): 65, frozenset({7, 174, 79, 56, 127}): 75, frozenset({7, 172, 174, 79, 56}): 120, frozenset({7, 172, 79, 181, 56}): 95, frozenset({258, 7, 172, 79, 56}): 75, frozenset({7, 174, 79, 181, 56}): 100, frozenset({258, 7, 174, 79, 56}): 80, frozenset({258, 7, 79, 181, 56}): 65, frozenset({98, 100, 7, 56, 127}): 80, frozenset({98, 100, 7, 172, 56}): 95, frozenset({98, 100, 7, 174, 56}): 110, frozenset({98, 100, 7, 181, 56}): 75, frozenset({98, 258, 100, 7, 56}): 80, frozenset({98, 7, 172, 56, 127}): 60, frozenset({98, 7, 174, 56, 127}): 75, frozenset({98, 7, 172, 174, 56}): 115, frozenset({98, 7, 172, 181, 56}): 95, frozenset({98, 258, 7, 172, 56}): 85, frozenset({98, 7, 174, 181, 56}): 100, frozenset({98, 258, 7, 174, 56}): 90, frozenset({98, 258, 7, 181, 56}): 75, frozenset({100, 7, 172, 56, 127}): 70, frozenset({100, 7, 174, 56, 127}): 85, frozenset({100, 7, 172, 174, 56}): 115, frozenset({100, 7, 172, 181, 56}): 90, frozenset({100, 7, 174, 181, 56}): 95, frozenset({258, 100, 7, 174, 56}): 70, frozenset({258, 100, 7, 181, 56}): 55, frozenset({7, 172, 174, 56, 127}): 80, frozenset({7, 172, 174, 181, 56}): 120, frozenset({258, 7, 172, 174, 56}): 85, frozenset({258, 7, 172, 181, 56}): 75, frozenset({258, 7, 174, 181, 56}): 75, frozenset({64, 98, 100, 7, 79}): 80, frozenset({64, 98, 7, 79, 127}): 65, frozenset({64, 98, 7, 172, 79}): 85, frozenset({64, 98, 7, 174, 79}): 95, frozenset({64, 98, 7, 79, 181}): 80, frozenset({64, 98, 258, 7, 79}): 65, frozenset({64, 100, 7, 79, 127}): 65, frozenset({64, 100, 7, 172, 79}): 65, frozenset({64, 100, 7, 174, 79}): 75, frozenset({64, 100, 7, 79, 181}): 65, frozenset({64, 7, 174, 79, 127}): 65, frozenset({64, 7, 172, 174, 79}): 90, frozenset({64, 7, 172, 79, 181}): 80, frozenset({64, 7, 174, 79, 181}): 85, frozenset({64, 98, 100, 7, 127}): 75, frozenset({64, 98, 100, 7, 172}): 75, frozenset({64, 98, 100, 7, 174}): 85, frozenset({64, 98, 100, 7, 181}): 60, frozenset({64, 98, 7, 172, 127}): 65, frozenset({64, 98, 7, 174, 127}): 80, frozenset({64, 98, 7, 172, 174}): 100, frozenset({64, 98, 7, 172, 181}): 85, frozenset({64, 98, 258, 7, 172}): 65, frozenset({64, 98, 7, 174, 181}): 90, frozenset({64, 98, 258, 7, 174}): 65, frozenset({64, 98, 258, 7, 181}): 60, frozenset({64, 100, 7, 172, 127}): 60, frozenset({64, 100, 7, 174, 127}): 75, frozenset({64, 100, 7, 172, 174}): 85, frozenset({64, 100, 7, 172, 181}): 70, frozenset({64, 100, 7, 174, 181}): 75, frozenset({64, 7, 172, 174, 127}): 70, frozenset({64, 7, 172, 174, 181}): 100, frozenset({64, 258, 7, 172, 174}): 70, frozenset({64, 258, 7, 172, 181}): 65, frozenset({64, 258, 7, 174, 181}): 65, frozenset({98, 100, 7, 79, 127}): 60, frozenset({98, 100, 7, 172, 79}): 80, frozenset({98, 100, 7, 174, 79}): 95, frozenset({98, 100, 7, 79, 181}): 70, frozenset({98, 258, 100, 7, 79}): 75, frozenset({98, 7, 174, 79, 127}): 60, frozenset({98, 7, 172, 174, 79}): 110, frozenset({98, 7, 172, 79, 181}): 90, frozenset({98, 258, 7, 172, 79}): 75, frozenset({98, 7, 174, 79, 181}): 100, frozenset({98, 258, 7, 174, 79}): 85, frozenset({98, 258, 7, 79, 181}): 70, frozenset({100, 7, 174, 79, 127}): 70, frozenset({100, 7, 172, 174, 79}): 95, frozenset({100, 7, 172, 79, 181}): 75, frozenset({100, 7, 174, 79, 181}): 80, frozenset({258, 100, 7, 174, 79}): 65, frozenset({7, 172, 174, 79, 127}): 70, frozenset({7, 172, 174, 79, 181}): 100, frozenset({258, 7, 172, 174, 79}): 75, frozenset({258, 7, 172, 79, 181}): 65, frozenset({258, 7, 174, 79, 181}): 70, frozenset({98, 100, 7, 172, 127}): 55, frozenset({98, 100, 7, 174, 127}): 70, frozenset({98, 100, 7, 172, 174}): 90, frozenset({98, 100, 7, 172, 181}): 70, frozenset({98, 100, 7, 174, 181}): 75, frozenset({98, 258, 100, 7, 174}): 70, frozenset({98, 258, 100, 7, 181}): 55, frozenset({98, 7, 172, 174, 127}): 65, frozenset({98, 7, 172, 174, 181}): 100, frozenset({98, 258, 7, 172, 174}): 85, frozenset({98, 258, 7, 172, 181}): 75, frozenset({98, 258, 7, 174, 181}): 80, frozenset({100, 7, 172, 174, 127}): 70, frozenset({100, 7, 172, 174, 181}): 95, frozenset({258, 100, 7, 174, 181}): 60, frozenset({258, 7, 172, 174, 181}): 85, frozenset({64, 98, 9, 50, 56}): 80, frozenset({64, 100, 9, 50, 56}): 75, frozenset({64, 9, 50, 56, 127}): 70, frozenset({64, 9, 174, 50, 56}): 90, frozenset({98, 100, 9, 50, 56}): 75, frozenset({98, 9, 50, 56, 127}): 65, frozenset({98, 9, 174, 50, 56}): 85, frozenset({100, 9, 50, 56, 127}): 70, frozenset({100, 9, 174, 50, 56}): 90, frozenset({9, 174, 50, 56, 127}): 75, frozenset({64, 98, 100, 9, 50}): 70, frozenset({64, 98, 9, 50, 127}): 75, frozenset({64, 98, 9, 174, 50}): 80, frozenset({64, 100, 9, 50, 127}): 70, frozenset({64, 100, 9, 174, 50}): 85, frozenset({64, 9, 174, 50, 127}): 70, frozenset({98, 100, 9, 50, 127}): 70, frozenset({98, 100, 9, 174, 50}): 70, frozenset({98, 9, 174, 50, 127}): 65, frozenset({100, 9, 174, 50, 127}): 70, frozenset({100, 9, 174, 50, 181}): 75, frozenset({64, 98, 100, 9, 56}): 90, frozenset({64, 98, 9, 56, 127}): 90, frozenset({64, 98, 9, 174, 56}): 100, frozenset({64, 100, 9, 56, 127}): 90, frozenset({64, 100, 9, 174, 56}): 95, frozenset({64, 9, 174, 56, 127}): 90, frozenset({98, 100, 9, 56, 127}): 90, frozenset({98, 100, 9, 174, 56}): 90, frozenset({98, 9, 174, 56, 127}): 85, frozenset({100, 9, 174, 56, 127}): 90, frozenset({64, 98, 100, 9, 127}): 90, frozenset({64, 98, 100, 9, 174}): 85, frozenset({64, 98, 9, 174, 127}): 85, frozenset({64, 100, 9, 174, 127}): 85, frozenset({98, 100, 9, 174, 127}): 80, frozenset({64, 98, 79, 50, 56}): 90, frozenset({64, 100, 79, 50, 56}): 75, frozenset({64, 79, 50, 56, 127}): 60, frozenset({64, 172, 79, 50, 56}): 80, frozenset({64, 174, 79, 50, 56}): 95, frozenset({64, 79, 50, 181, 56}): 80, frozenset({64, 258, 79, 50, 56}): 55, frozenset({64, 98, 100, 50, 56}): 100, frozenset({64, 98, 50, 56, 127}): 95, frozenset({64, 98, 172, 50, 56}): 105, frozenset({64, 98, 174, 50, 56}): 130, frozenset({64, 98, 50, 181, 56}): 100, frozenset({64, 98, 258, 50, 56}): 80, frozenset({64, 100, 50, 56, 127}): 90, frozenset({64, 100, 172, 50, 56}): 85, frozenset({64, 100, 174, 50, 56}): 110, frozenset({64, 100, 50, 181, 56}): 80, frozenset({64, 172, 50, 56, 127}): 75, frozenset({64, 174, 50, 56, 127}): 100, frozenset({64, 50, 181, 56, 127}): 70, frozenset({64, 172, 174, 50, 56}): 115, frozenset({64, 172, 50, 181, 56}): 105, frozenset({64, 258, 172, 50, 56}): 80, frozenset({64, 174, 50, 181, 56}): 110, frozenset({64, 258, 174, 50, 56}): 80, frozenset({64, 258, 50, 181, 56}): 75, frozenset({98, 100, 79, 50, 56}): 90, frozenset({98, 79, 50, 56, 127}): 55, frozenset({98, 172, 79, 50, 56}): 90, frozenset({98, 174, 79, 50, 56}): 110, frozenset({98, 79, 50, 181, 56}): 90, frozenset({98, 258, 79, 50, 56}): 75, frozenset({100, 79, 50, 56, 127}): 75, frozenset({100, 172, 79, 50, 56}): 85, frozenset({100, 174, 79, 50, 56}): 110, frozenset({100, 79, 50, 181, 56}): 80, frozenset({258, 100, 79, 50, 56}): 60, frozenset({172, 79, 50, 56, 127}): 65, frozenset({174, 79, 50, 56, 127}): 85, frozenset({172, 174, 79, 50, 56}): 115, frozenset({172, 79, 50, 181, 56}): 100, frozenset({258, 172, 79, 50, 56}): 75, frozenset({174, 79, 50, 181, 56}): 110, frozenset({258, 174, 79, 50, 56}): 80, frozenset({258, 79, 50, 181, 56}): 70, frozenset({98, 100, 50, 56, 127}): 85, frozenset({98, 100, 172, 50, 56}): 90, frozenset({98, 100, 174, 50, 56}): 125, frozenset({98, 100, 50, 181, 56}): 90, frozenset({98, 258, 100, 50, 56}): 75, frozenset({98, 172, 50, 56, 127}): 70, frozenset({98, 174, 50, 56, 127}): 95, frozenset({98, 50, 181, 56, 127}): 65, frozenset({98, 172, 174, 50, 56}): 125, frozenset({98, 172, 50, 181, 56}): 115, frozenset({98, 258, 172, 50, 56}): 100, frozenset({98, 174, 50, 181, 56}): 125, frozenset({98, 258, 174, 50, 56}): 105, frozenset({98, 258, 50, 181, 56}): 95, frozenset({100, 172, 50, 56, 127}): 80, frozenset({100, 174, 50, 56, 127}): 110, frozenset({100, 50, 181, 56, 127}): 65, frozenset({100, 172, 174, 50, 56}): 120, frozenset({100, 172, 50, 181, 56}): 100, frozenset({100, 174, 50, 181, 56}): 110, frozenset({258, 100, 174, 50, 56}): 75, frozenset({258, 100, 50, 181, 56}): 65, frozenset({172, 174, 50, 56, 127}): 100, frozenset({172, 50, 181, 56, 127}): 75, frozenset({174, 50, 181, 56, 127}): 80, frozenset({172, 174, 50, 181, 56}): 145, frozenset({258, 172, 174, 50, 56}): 105, frozenset({258, 172, 50, 181, 56}): 100, frozenset({258, 174, 50, 181, 56}): 100, frozenset({64, 98, 100, 79, 50}): 70, frozenset({64, 98, 79, 50, 127}): 65, frozenset({64, 98, 172, 79, 50}): 95, frozenset({64, 98, 174, 79, 50}): 110, frozenset({64, 98, 79, 50, 181}): 100, frozenset({64, 98, 258, 79, 50}): 60, frozenset({64, 100, 79, 50, 127}): 60, frozenset({64, 100, 172, 79, 50}): 60, frozenset({64, 100, 174, 79, 50}): 75, frozenset({64, 100, 79, 50, 181}): 65, frozenset({64, 174, 79, 50, 127}): 70, frozenset({64, 172, 174, 79, 50}): 100, frozenset({64, 172, 79, 50, 181}): 95, frozenset({64, 174, 79, 50, 181}): 100, frozenset({64, 98, 100, 50, 127}): 90, frozenset({64, 98, 100, 172, 50}): 80, frozenset({64, 98, 100, 174, 50}): 100, frozenset({64, 98, 100, 50, 181}): 75, frozenset({64, 98, 172, 50, 127}): 90, frozenset({64, 98, 174, 50, 127}): 105, frozenset({64, 98, 50, 181, 127}): 80, frozenset({64, 98, 172, 174, 50}): 125, frozenset({64, 98, 172, 50, 181}): 120, frozenset({64, 98, 258, 172, 50}): 85, frozenset({64, 98, 174, 50, 181}): 120, frozenset({64, 98, 258, 174, 50}): 85, frozenset({64, 98, 258, 50, 181}): 80, frozenset({64, 100, 172, 50, 127}): 70, frozenset({64, 100, 174, 50, 127}): 90, frozenset({64, 100, 50, 181, 127}): 65, frozenset({64, 100, 172, 174, 50}): 90, frozenset({64, 100, 172, 50, 181}): 85, frozenset({64, 100, 174, 50, 181}): 95, frozenset({64, 172, 174, 50, 127}): 85, frozenset({64, 172, 50, 181, 127}): 80, frozenset({64, 174, 50, 181, 127}): 80, frozenset({64, 172, 174, 50, 181}): 130, frozenset({64, 258, 172, 174, 50}): 90, frozenset({64, 258, 172, 50, 181}): 85, frozenset({64, 258, 174, 50, 181}): 90, frozenset({98, 100, 79, 50, 127}): 55, frozenset({98, 100, 172, 79, 50}): 70, frozenset({98, 100, 174, 79, 50}): 90, frozenset({98, 100, 79, 50, 181}): 70, frozenset({98, 258, 100, 79, 50}): 60, frozenset({98, 174, 79, 50, 127}): 65, frozenset({98, 172, 174, 79, 50}): 115, frozenset({98, 172, 79, 50, 181}): 105, frozenset({98, 258, 172, 79, 50}): 75, frozenset({98, 174, 79, 50, 181}): 115, frozenset({98, 258, 174, 79, 50}): 85, frozenset({98, 258, 79, 50, 181}): 75, frozenset({100, 174, 79, 50, 127}): 75, frozenset({100, 172, 174, 79, 50}): 85, frozenset({100, 172, 79, 50, 181}): 75, frozenset({100, 174, 79, 50, 181}): 80, frozenset({258, 100, 174, 79, 50}): 60, frozenset({172, 174, 79, 50, 127}): 85, frozenset({172, 174, 79, 50, 181}): 140, frozenset({258, 172, 174, 79, 50}): 90, frozenset({258, 172, 79, 50, 181}): 85, frozenset({258, 174, 79, 50, 181}): 90, frozenset({98, 100, 172, 50, 127}): 70, frozenset({98, 100, 174, 50, 127}): 85, frozenset({98, 100, 50, 181, 127}): 65, frozenset({98, 100, 172, 174, 50}): 90, frozenset({98, 100, 172, 50, 181}): 90, frozenset({98, 100, 174, 50, 181}): 90, frozenset({98, 258, 100, 174, 50}): 75, frozenset({98, 258, 100, 50, 181}): 65, frozenset({98, 172, 174, 50, 127}): 85, frozenset({98, 172, 50, 181, 127}): 80, frozenset({98, 174, 50, 181, 127}): 75, frozenset({98, 172, 174, 50, 181}): 140, frozenset({98, 258, 172, 174, 50}): 105, frozenset({98, 258, 172, 50, 181}): 100, frozenset({98, 258, 174, 50, 181}): 105, frozenset({100, 172, 174, 50, 127}): 80, frozenset({100, 172, 50, 181, 127}): 70, frozenset({100, 174, 50, 181, 127}): 65, frozenset({100, 172, 174, 50, 181}): 110, frozenset({258, 100, 174, 50, 181}): 75, frozenset({172, 174, 50, 181, 127}): 100, frozenset({258, 172, 174, 50, 181}): 125, frozenset({64, 98, 100, 79, 56}): 90, frozenset({64, 98, 79, 56, 127}): 75, frozenset({64, 98, 172, 79, 56}): 80, frozenset({64, 98, 174, 79, 56}): 105, frozenset({64, 98, 79, 181, 56}): 75, frozenset({64, 98, 258, 79, 56}): 60, frozenset({64, 100, 79, 56, 127}): 80, frozenset({64, 100, 172, 79, 56}): 65, frozenset({64, 100, 174, 79, 56}): 90, frozenset({64, 100, 79, 181, 56}): 60, frozenset({64, 174, 79, 56, 127}): 75, frozenset({64, 172, 174, 79, 56}): 85, frozenset({64, 172, 79, 181, 56}): 75, frozenset({64, 174, 79, 181, 56}): 80, frozenset({64, 98, 100, 56, 127}): 110, frozenset({64, 98, 100, 172, 56}): 85, frozenset({64, 98, 100, 174, 56}): 120, frozenset({64, 98, 100, 181, 56}): 70, frozenset({64, 98, 172, 56, 127}): 75, frozenset({64, 98, 174, 56, 127}): 115, frozenset({64, 98, 181, 56, 127}): 65, frozenset({64, 98, 172, 174, 56}): 110, frozenset({64, 98, 172, 181, 56}): 95, frozenset({64, 98, 258, 172, 56}): 80, frozenset({64, 98, 174, 181, 56}): 100, frozenset({64, 98, 258, 174, 56}): 80, frozenset({64, 98, 258, 181, 56}): 75, frozenset({64, 100, 172, 56, 127}): 70, frozenset({64, 100, 174, 56, 127}): 110, frozenset({64, 100, 181, 56, 127}): 60, frozenset({64, 100, 172, 174, 56}): 90, frozenset({64, 100, 172, 181, 56}): 75, frozenset({64, 100, 174, 181, 56}): 80, frozenset({64, 172, 174, 56, 127}): 80, frozenset({64, 172, 181, 56, 127}): 65, frozenset({64, 174, 181, 56, 127}): 70, frozenset({64, 172, 174, 181, 56}): 105, frozenset({64, 258, 172, 174, 56}): 80, frozenset({64, 258, 172, 181, 56}): 75, frozenset({64, 258, 174, 181, 56}): 75, frozenset({98, 100, 79, 56, 127}): 75, frozenset({98, 100, 172, 79, 56}): 80, frozenset({98, 100, 174, 79, 56}): 110, frozenset({98, 100, 79, 181, 56}): 70, frozenset({98, 258, 100, 79, 56}): 70, frozenset({98, 174, 79, 56, 127}): 70, frozenset({98, 172, 174, 79, 56}): 100, frozenset({98, 172, 79, 181, 56}): 85, frozenset({98, 258, 172, 79, 56}): 75, frozenset({98, 174, 79, 181, 56}): 90, frozenset({98, 258, 174, 79, 56}): 80, frozenset({98, 258, 79, 181, 56}): 65, frozenset({100, 174, 79, 56, 127}): 90, frozenset({100, 172, 174, 79, 56}): 95, frozenset({100, 172, 79, 181, 56}): 75, frozenset({100, 174, 79, 181, 56}): 80, frozenset({258, 100, 174, 79, 56}): 65, frozenset({172, 174, 79, 56, 127}): 70, frozenset({172, 174, 79, 181, 56}): 100, frozenset({258, 172, 174, 79, 56}): 80, frozenset({258, 172, 79, 181, 56}): 70, frozenset({258, 174, 79, 181, 56}): 70, frozenset({98, 100, 172, 56, 127}): 65, frozenset({98, 100, 174, 56, 127}): 105, frozenset({98, 100, 181, 56, 127}): 55, frozenset({98, 100, 172, 174, 56}): 100, frozenset({98, 100, 172, 181, 56}): 80, frozenset({98, 100, 174, 181, 56}): 90, frozenset({98, 258, 100, 174, 56}): 80, frozenset({98, 258, 100, 181, 56}): 65, frozenset({98, 172, 174, 56, 127}): 75, frozenset({98, 172, 181, 56, 127}): 60, frozenset({98, 174, 181, 56, 127}): 65, frozenset({98, 172, 174, 181, 56}): 115, frozenset({98, 258, 172, 174, 56}): 105, frozenset({98, 258, 172, 181, 56}): 95, frozenset({98, 258, 174, 181, 56}): 95, frozenset({100, 172, 174, 56, 127}): 85, frozenset({100, 172, 181, 56, 127}): 60, frozenset({100, 174, 181, 56, 127}): 65, frozenset({100, 172, 174, 181, 56}): 100, frozenset({258, 100, 174, 181, 56}): 65, frozenset({172, 174, 181, 56, 127}): 75, frozenset({258, 172, 174, 181, 56}): 100, frozenset({64, 98, 100, 79, 127}): 75, frozenset({64, 98, 100, 172, 79}): 60, frozenset({64, 98, 100, 174, 79}): 85, frozenset({64, 98, 100, 79, 181}): 55, frozenset({64, 98, 174, 79, 127}): 80, frozenset({64, 98, 172, 174, 79}): 100, frozenset({64, 98, 172, 79, 181}): 90, frozenset({64, 98, 174, 79, 181}): 95, frozenset({64, 100, 174, 79, 127}): 75, frozenset({64, 100, 172, 174, 79}): 65, frozenset({64, 100, 172, 79, 181}): 55, frozenset({64, 100, 174, 79, 181}): 60, frozenset({64, 172, 174, 79, 181}): 95, frozenset({64, 98, 100, 172, 127}): 70, frozenset({64, 98, 100, 174, 127}): 105, frozenset({64, 98, 100, 181, 127}): 60, frozenset({64, 98, 100, 172, 174}): 80, frozenset({64, 98, 100, 172, 181}): 70, frozenset({64, 98, 100, 174, 181}): 70, frozenset({64, 98, 172, 174, 127}): 85, frozenset({64, 98, 172, 181, 127}): 75, frozenset({64, 98, 174, 181, 127}): 75, frozenset({64, 98, 172, 174, 181}): 115, frozenset({64, 98, 258, 172, 174}): 85, frozenset({64, 98, 258, 172, 181}): 80, frozenset({64, 98, 258, 174, 181}): 80, frozenset({64, 100, 172, 174, 127}): 70, frozenset({64, 100, 172, 181, 127}): 60, frozenset({64, 100, 174, 181, 127}): 60, frozenset({64, 100, 172, 174, 181}): 80, frozenset({64, 172, 174, 181, 127}): 75, frozenset({64, 258, 172, 174, 181}): 85, frozenset({98, 100, 174, 79, 127}): 70, frozenset({98, 100, 172, 174, 79}): 80, frozenset({98, 100, 172, 79, 181}): 65, frozenset({98, 100, 174, 79, 181}): 70, frozenset({98, 258, 100, 174, 79}): 65, frozenset({98, 172, 174, 79, 181}): 105, frozenset({98, 258, 172, 174, 79}): 80, frozenset({98, 258, 172, 79, 181}): 70, frozenset({98, 258, 174, 79, 181}): 75, frozenset({100, 172, 174, 79, 181}): 75, frozenset({258, 172, 174, 79, 181}): 85, frozenset({98, 100, 172, 174, 127}): 65, frozenset({98, 100, 172, 181, 127}): 60, frozenset({98, 100, 174, 181, 127}): 55, frozenset({98, 100, 172, 174, 181}): 80, frozenset({98, 258, 100, 174, 181}): 65, frozenset({98, 172, 174, 181, 127}): 70, frozenset({98, 258, 172, 174, 181}): 100, frozenset({100, 172, 174, 181, 127}): 60}\n"
     ]
    }
   ],
   "source": [
    "for k in range(2, 20):\n",
    "    current_frequents_itemsets = find_frequent_itemsets(favorated_by_users ,frequent_itemsets[k-1] , 50)\n",
    "    frequent_itemsets[k] = current_frequents_itemsets\n",
    "    if len(current_frequents_itemsets)==0:\n",
    "        break\n",
    "print(frequent_itemsets[5])"
   ]
  }
 ],
 "metadata": {
  "kernelspec": {
   "display_name": "Python 3",
   "language": "python",
   "name": "python3"
  },
  "language_info": {
   "codemirror_mode": {
    "name": "ipython",
    "version": 3
   },
   "file_extension": ".py",
   "mimetype": "text/x-python",
   "name": "python",
   "nbconvert_exporter": "python",
   "pygments_lexer": "ipython3",
   "version": "3.6.0"
  }
 },
 "nbformat": 4,
 "nbformat_minor": 2
}
